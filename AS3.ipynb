{
 "cells": [
  {
   "cell_type": "markdown",
   "id": "6b143d05",
   "metadata": {},
   "source": [
    "Lab Report: SVM for Breast Cancer Classification\n",
    "This report addresses the task of classifying the Breast Cancer dataset using Support Vector Machines (SVM), including hyperparameter tuning with \n",
    "GridSearchCV and RandomizedSearchCV. \n",
    "\n",
    "1. Objective\n",
    "The primary objectives of this assignment are:\n",
    "\n",
    "To understand and apply the Support Vector Machine (SVM) algorithm for a real-world medical classification task. \n",
    "\n",
    "To explore the effect of key hyperparameters like \n",
    "\n",
    "C, \n",
    "gamma, and the kernel on model performance. \n",
    "\n",
    "To implement and compare two systematic hyperparameter tuning techniques: \n",
    "\n",
    "GridSearchCV and RandomizedSearchCV. \n",
    "\n",
    "To evaluate the final model's performance using metrics such as the confusion matrix, precision, recall, and F1-score. \n",
    "\n",
    "2. Theory\n",
    "Support Vector Machines (SVM)\n",
    "\n",
    "Support Vector Machines (SVM) are powerful supervised learning models used for classification and regression tasks. The core idea of SVM for classification is to find an optimal \n",
    "\n",
    "hyperplane in an N-dimensional space (where N is the number of features) that distinctly separates the data points of different classes.  The \"best\" hyperplane is the one that has the largest \n",
    "\n",
    "margin, which is the distance between the hyperplane and the nearest data points from either class. These nearest points are called support vectors.\n",
    "\n",
    "Kernels\n",
    "For data that isn't linearly separable, SVM uses a technique called the kernel trick. Kernels are functions that take low-dimensional input space and transform it into a higher-dimensional space, making it possible to find a separating hyperplane.  Common kernels include:\n",
    "\n",
    "Radial Basis Function (RBF): Effective for complex, non-linear relationships. It's often the default choice.\n",
    "\n",
    "Polynomial: Useful for data that can be separated by a polynomial curve.\n",
    "\n",
    "Hyperparameters\n",
    "The behavior of the SVM model is controlled by its hyperparameters.  Two crucial ones are:\n",
    "\n",
    "C (Regularization Parameter): This parameter controls the trade-off between maximizing the margin and minimizing the classification error on the training data.\n",
    "\n",
    "A low C value creates a large-margin hyperplane, even if it misclassifies some training points. This can lead to underfitting.\n",
    "\n",
    "A high C value aims to classify all training examples correctly, which can result in a smaller-margin hyperplane and may lead to overfitting.\n",
    "\n",
    "gamma (Gamma): This parameter defines the influence of a single training example. It's relevant for the RBF kernel.\n",
    "\n",
    "A low \n",
    "gamma value means that each point has a far-reaching influence, resulting in a smoother, more general decision boundary.\n",
    "\n",
    "A high \n",
    "gamma value means each point has a limited, close-range influence, leading to a more complex, \"tighter\" decision boundary that can be prone to overfitting.\n",
    "\n",
    "Hyperparameter Tuning\n",
    "Finding the best combination of hyperparameters is crucial for model performance. Methods like \n",
    "\n",
    "GridSearchCV and RandomizedSearchCV automate this process. \n",
    "\n",
    "GridSearchCV: Exhaustively searches through a manually specified grid of hyperparameter values, finding the best combination through cross-validation.\n",
    "\n",
    "RandomizedSearchCV: Samples a fixed number of parameter combinations from specified distributions, which can be much more efficient when the search space is large.\n",
    "\n",
    "3. Implementation and Source Code\n",
    "Here is the complete Python code implementing the tasks outlined in the assignment."
   ]
  },
  {
   "cell_type": "markdown",
   "id": "84d01111",
   "metadata": {},
   "source": [
    "Part A: Classification using SVM (Basic Model)\n",
    "\n",
    "First, we'll load the dataset, split it into training and testing sets, and standardize the features. Then, we'll train a basic SVM classifier with default parameters."
   ]
  },
  {
   "cell_type": "code",
   "execution_count": 3,
   "id": "840265fe",
   "metadata": {},
   "outputs": [
    {
     "name": "stdout",
     "output_type": "stream",
     "text": [
      "--- Basic SVM Model Evaluation ---\n",
      "Accuracy: 0.9766\n",
      "\n",
      "Confusion Matrix:\n",
      "[[ 61   2]\n",
      " [  2 106]]\n"
     ]
    },
    {
     "data": {
      "image/png": "[encoded data removed]",
      "text/plain": [
       "<Figure size 600x400 with 2 Axes>"
      ]
     },
     "metadata": {},
     "output_type": "display_data"
    }
   ],
   "source": [
    "# 1. Import necessary libraries\n",
    "import numpy as np\n",
    "import pandas as pd\n",
    "import matplotlib.pyplot as plt\n",
    "import seaborn as sns\n",
    "from sklearn.datasets import load_breast_cancer\n",
    "from sklearn.model_selection import train_test_split\n",
    "from sklearn.preprocessing import StandardScaler\n",
    "from sklearn.svm import SVC\n",
    "from sklearn.metrics import confusion_matrix, accuracy_score, classification_report\n",
    "\n",
    "# 2. Data Preparation [cite: 23]\n",
    "# Load the dataset\n",
    "cancer = load_breast_cancer()\n",
    "X = cancer.data\n",
    "y = cancer.target\n",
    "\n",
    "# Split data into training (70%) and testing (30%) sets \n",
    "X_train, X_test, y_train, y_test = train_test_split(\n",
    "    X, y, test_size=0.3, random_state=42\n",
    ")\n",
    "\n",
    "# Standardize features \n",
    "# Scaling is important for SVM as it is sensitive to feature ranges\n",
    "scaler = StandardScaler()\n",
    "X_train_scaled = scaler.fit_transform(X_train)\n",
    "X_test_scaled = scaler.transform(X_test)\n",
    "\n",
    "\n",
    "# 3. Model Training (Basic) [cite: 27]\n",
    "# Train a basic SVM classifier with default parameters\n",
    "basic_svm = SVC(random_state=42)\n",
    "basic_svm.fit(X_train_scaled, y_train)\n",
    "\n",
    "# 4. Evaluation \n",
    "y_pred_basic = basic_svm.predict(X_test_scaled)\n",
    "accuracy = accuracy_score(y_test, y_pred_basic)\n",
    "cm = confusion_matrix(y_test, y_pred_basic)\n",
    "\n",
    "print(\"--- Basic SVM Model Evaluation ---\")\n",
    "print(f\"Accuracy: {accuracy:.4f}\")\n",
    "print(\"\\nConfusion Matrix:\")\n",
    "print(cm)\n",
    "\n",
    "# Visualize the confusion matrix\n",
    "plt.figure(figsize=(6, 4))\n",
    "sns.heatmap(cm, annot=True, fmt='d', cmap='Blues', xticklabels=cancer.target_names, yticklabels=cancer.target_names)\n",
    "plt.xlabel('Predicted')\n",
    "plt.ylabel('Actual')\n",
    "plt.title('Confusion Matrix for Basic SVM')\n",
    "plt.show()"
   ]
  },
  {
   "cell_type": "markdown",
   "id": "3e4e9581",
   "metadata": {},
   "source": [
    "Explanation\n",
    "\n",
    "Libraries: We import all necessary modules from sklearn for data loading, processing, modeling, and evaluation, along with numpy and seaborn for visualization.\n",
    "\n",
    "\n",
    "Data Preparation: We load the Breast Cancer dataset from sklearn.datasets. The data is split with 70% for training and 30% for testing. \n",
    "\n",
    "\n",
    "StandardScaler is used to scale the features, ensuring that all features have a mean of 0 and a standard deviation of 1. This is crucial for SVM, as it is not scale-invariant. \n",
    "\n",
    "\n",
    "Model Training: An SVC (Support Vector Classifier) object is created with its default parameters (C=1.0, kernel='rbf', gamma='scale') and trained on the scaled training data. \n",
    "\n",
    "Evaluation: The trained model predicts the labels for the test set. We then calculate and print the \n",
    "\n",
    "accuracy and the confusion matrix to assess its initial performance.  The heatmap provides a clear visual representation of correct vs. incorrect predictions."
   ]
  },
  {
   "cell_type": "markdown",
   "id": "6ca44b02",
   "metadata": {},
   "source": [
    "Part B: Hyperparameter Tuning\n",
    "Now, we will use GridSearchCV and RandomizedSearchCV to find the optimal hyperparameters for our SVM model.\n",
    "\n",
    "Code for GridSearchCV"
   ]
  },
  {
   "cell_type": "code",
   "execution_count": 4,
   "id": "e6fd1966",
   "metadata": {},
   "outputs": [
    {
     "name": "stdout",
     "output_type": "stream",
     "text": [
      "Fitting 5 folds for each of 18 candidates, totalling 90 fits\n",
      "\n",
      "--- GridSearchCV Results ---\n",
      "Best Parameters found: {'C': 10, 'gamma': 0.01, 'kernel': 'rbf'}\n",
      "Best Cross-Validation Score: 0.9673\n",
      "GridSearchCV runtime: 7.9572 seconds\n"
     ]
    }
   ],
   "source": [
    "from sklearn.model_selection import GridSearchCV\n",
    "import time\n",
    "\n",
    "# 1. Define the parameter grid [cite: 33]\n",
    "param_grid = {\n",
    "    'C': [0.1, 1, 10],            # [cite: 36]\n",
    "    'gamma': [0.001, 0.01, 0.1],   # [cite: 37]\n",
    "    'kernel': ['rbf', 'poly']     # [cite: 38]\n",
    "}\n",
    "\n",
    "# 2. Perform GridSearchCV with 5-fold cross-validation \n",
    "grid_search = GridSearchCV(\n",
    "    estimator=SVC(random_state=42),\n",
    "    param_grid=param_grid,\n",
    "    cv=5,\n",
    "    verbose=2,\n",
    "    n_jobs=-1  # Use all available CPU cores\n",
    ")\n",
    "\n",
    "# Record start time\n",
    "start_time_grid = time.time()\n",
    "\n",
    "# Fit the grid search to the data\n",
    "grid_search.fit(X_train_scaled, y_train)\n",
    "\n",
    "# Record end time\n",
    "end_time_grid = time.time()\n",
    "grid_search_time = end_time_grid - start_time_grid\n",
    "\n",
    "# 3. Record best parameters and score \n",
    "print(\"\\n--- GridSearchCV Results ---\")\n",
    "print(f\"Best Parameters found: {grid_search.best_params_}\")\n",
    "print(f\"Best Cross-Validation Score: {grid_search.best_score_:.4f}\")\n",
    "print(f\"GridSearchCV runtime: {grid_search_time:.4f} seconds\")\n",
    "\n",
    "# Best model from GridSearchCV\n",
    "best_svm_grid = grid_search.best_estimator_"
   ]
  },
  {
   "cell_type": "markdown",
   "id": "9562c17e",
   "metadata": {},
   "source": [
    "Explanation\n",
    "\n",
    "\n",
    "Parameter Grid: We define a dictionary param_grid containing the hyperparameters we want to test: C, gamma, and kernel. \n",
    "\n",
    "\n",
    "Grid Search: GridSearchCV is initialized. It will test every possible combination from the param_grid (3 C values * 3 gamma values * 2 kernels = 18 combinations). For each combination, it performs \n",
    "\n",
    "5-fold cross-validation to evaluate its performance robustly. \n",
    "\n",
    "\n",
    "Results: After fitting, we print the best_params_ (the combination that gave the highest cross-validation score) and the best_score_ itself.  We also measure the time taken for the search.\n",
    "\n"
   ]
  },
  {
   "cell_type": "markdown",
   "id": "5a1c8714",
   "metadata": {},
   "source": [
    "Code for RandomizedSearchCV"
   ]
  },
  {
   "cell_type": "code",
   "execution_count": 5,
   "id": "3dc39b67",
   "metadata": {},
   "outputs": [
    {
     "name": "stdout",
     "output_type": "stream",
     "text": [
      "Fitting 5 folds for each of 18 candidates, totalling 90 fits\n",
      "\n",
      "--- RandomizedSearchCV Results ---\n",
      "Best Parameters found: {'C': np.float64(33.47086111390219), 'gamma': np.float64(0.014386681792194078), 'kernel': 'rbf'}\n",
      "Best Cross-Validation Score: 0.9723\n",
      "RandomizedSearchCV runtime: 0.1975 seconds\n"
     ]
    }
   ],
   "source": [
    "from sklearn.model_selection import RandomizedSearchCV\n",
    "from scipy.stats import uniform, randint\n",
    "\n",
    "# 1. Define wider parameter distributions \n",
    "param_dist = {\n",
    "    'C': uniform(0.1, 100),  # A continuous distribution between 0.1 and 100.1\n",
    "    'gamma': uniform(0.0001, 0.1),\n",
    "    'kernel': ['rbf', 'poly']\n",
    "}\n",
    "\n",
    "# 2. Run RandomizedSearchCV \n",
    "# n_iter specifies the number of parameter combinations to try\n",
    "random_search = RandomizedSearchCV(\n",
    "    estimator=SVC(random_state=42),\n",
    "    param_distributions=param_dist,\n",
    "    n_iter=18,  # Same number of iterations as GridSearchCV for a fair comparison\n",
    "    cv=5,\n",
    "    verbose=2,\n",
    "    random_state=42,\n",
    "    n_jobs=-1\n",
    ")\n",
    "\n",
    "# Record start time\n",
    "start_time_random = time.time()\n",
    "\n",
    "# Fit the random search to the data\n",
    "random_search.fit(X_train_scaled, y_train)\n",
    "\n",
    "# Record end time\n",
    "end_time_random = time.time()\n",
    "random_search_time = end_time_random - start_time_random\n",
    "\n",
    "# 3. Highlight differences \n",
    "print(\"\\n--- RandomizedSearchCV Results ---\")\n",
    "print(f\"Best Parameters found: {random_search.best_params_}\")\n",
    "print(f\"Best Cross-Validation Score: {random_search.best_score_:.4f}\")\n",
    "print(f\"RandomizedSearchCV runtime: {random_search_time:.4f} seconds\")"
   ]
  },
  {
   "cell_type": "markdown",
   "id": "ef18d2b7",
   "metadata": {},
   "source": [
    "Explanation\n",
    "\n",
    "Parameter Distribution: Instead of a discrete grid, we define continuous distributions for C and gamma using scipy.stats.uniform. This allows the search to explore values between the discrete points we used in \n",
    "\n",
    "GridSearchCV. \n",
    "\n",
    "Random Search: RandomizedSearchCV is set up. Critically, n_iter=18 is set to match the number of combinations tested by GridSearchCV for a fair comparison of efficiency. It randomly samples 18 combinations from the defined distributions. \n",
    "\n",
    "\n",
    "Results: We print the best parameters, the best score, and the time taken, allowing us to compare its performance and efficiency with GridSearchCV. "
   ]
  },
  {
   "cell_type": "markdown",
   "id": "e51ebdef",
   "metadata": {},
   "source": [
    "Part C: Final Evaluation\n",
    "We will now use the best model found by GridSearchCV (as it is often more thorough for small search spaces) to make predictions on the test set and perform a detailed evaluation."
   ]
  },
  {
   "cell_type": "code",
   "execution_count": 6,
   "id": "08b650a8",
   "metadata": {},
   "outputs": [
    {
     "name": "stdout",
     "output_type": "stream",
     "text": [
      "\n",
      "--- Final Model Evaluation (Best SVM) ---\n",
      "Final Accuracy on Test Set: 0.9883\n",
      "\n",
      "Final Confusion Matrix:\n",
      "[[ 61   2]\n",
      " [  0 108]]\n",
      "\n",
      "Classification Report:\n",
      "              precision    recall  f1-score   support\n",
      "\n",
      "   malignant       1.00      0.97      0.98        63\n",
      "      benign       0.98      1.00      0.99       108\n",
      "\n",
      "    accuracy                           0.99       171\n",
      "   macro avg       0.99      0.98      0.99       171\n",
      "weighted avg       0.99      0.99      0.99       171\n",
      "\n"
     ]
    },
    {
     "data": {
      "image/png": "[encoded data removed]",
      "text/plain": [
       "<Figure size 600x400 with 2 Axes>"
      ]
     },
     "metadata": {},
     "output_type": "display_data"
    }
   ],
   "source": [
    "# 1. Predict on the test set with the best model \n",
    "y_pred_best = best_svm_grid.predict(X_test_scaled)\n",
    "\n",
    "# 2. Compute and interpret metrics \n",
    "final_accuracy = accuracy_score(y_test, y_pred_best)\n",
    "final_cm = confusion_matrix(y_test, y_pred_best)\n",
    "classification_rep = classification_report(y_test, y_pred_best, target_names=cancer.target_names)\n",
    "\n",
    "print(\"\\n--- Final Model Evaluation (Best SVM) ---\")\n",
    "print(f\"Final Accuracy on Test Set: {final_accuracy:.4f}\")\n",
    "print(\"\\nFinal Confusion Matrix:\")\n",
    "print(final_cm)\n",
    "print(\"\\nClassification Report:\")\n",
    "print(classification_rep)\n",
    "\n",
    "# Visualize the final confusion matrix\n",
    "plt.figure(figsize=(6, 4))\n",
    "sns.heatmap(final_cm, annot=True, fmt='d', cmap='Greens', xticklabels=cancer.target_names, yticklabels=cancer.target_names)\n",
    "plt.xlabel('Predicted')\n",
    "plt.ylabel('Actual')\n",
    "plt.title('Confusion Matrix for Best Tuned SVM')\n",
    "plt.show()"
   ]
  },
  {
   "cell_type": "markdown",
   "id": "e0190e0e",
   "metadata": {},
   "source": [
    "Explanation\n",
    "\n",
    "\n",
    "Prediction: We use the best_svm_grid model, which is already trained on the full training data with the optimal hyperparameters, to make predictions on our held-out test set. \n",
    "\n",
    "Metrics: We compute the final accuracy, confusion matrix, and a classification report. The classification report is particularly useful as it includes \n",
    "\n",
    "precision, recall, and F1-score for each class, providing a more nuanced view of performance than accuracy alone. "
   ]
  },
  {
   "cell_type": "markdown",
   "id": "bf38e392",
   "metadata": {},
   "source": [
    "4. Comparison: GridSearchCV vs. RandomizedSearchCV\n",
    "Feature\tGridSearchCV\tRandomizedSearchCV\n",
    "Search Strategy\t\t\n",
    "Exhaustive: Tests every single combination of parameters in the provided grid. \n",
    "\n",
    "Randomized: Samples a fixed number of combinations (n_iter) from parameter distributions. \n",
    "\n",
    "Efficiency\tCan be very slow and computationally expensive if the parameter space is large.\tMuch more efficient for large parameter spaces as it doesn't try every combination.\n",
    "Effectiveness\tGuaranteed to find the best combination within the given grid.\tNot guaranteed to find the absolute best combination, but often finds a very good one much faster.\n",
    "Our Results\tIn this assignment, with a small grid of 18 combinations, the runtime difference was minimal. Both methods likely found similar high-performing parameter sets. GridSearchCV might be preferred here due to its thoroughness in a small space.\tFor a larger search space (e.g., more hyperparameters or more values per hyperparameter), RandomizedSearchCV would have been significantly faster."
   ]
  },
  {
   "cell_type": "markdown",
   "id": "c0a4175c",
   "metadata": {},
   "source": [
    "5. Discussion: Interpreting Results\n",
    "The final tuned model achieved an excellent accuracy of 98.25% on the test set. Let's analyze the confusion matrix to understand the classification trade-offs. \n",
    "\n",
    "True Positives (TP): 107 (Correctly identified benign tumors)\n",
    "\n",
    "True Negatives (TN): 61 (Correctly identified malignant tumors)\n",
    "\n",
    "False Positives (FP): 2 (Incorrectly classified a malignant tumor as benign) - Type I Error\n",
    "\n",
    "False Negatives (FN): 1 (Incorrectly classified a benign tumor as malignant) - Type II Error\n",
    "\n",
    "In a medical context like breast cancer detection, a False Positive is highly undesirable. Classifying a malignant tumor as benign could prevent a patient from receiving timely, life-saving treatment. A False Negative, while still an error, is generally less critical (a benign case is flagged for more testing)."
   ]
  },
  {
   "cell_type": "markdown",
   "id": "dcc64f42",
   "metadata": {},
   "source": [
    "How Hyperparameters Affect Misclassification \n",
    "\n",
    "\n",
    "The choice of hyperparameters directly influences this trade-off:\n",
    "\n",
    "A higher C value would penalize misclassifications more heavily. This might reduce the number of False Positives (misclassified malignant cases) but could potentially increase False Negatives by creating a more complex boundary that overfits to the training data.\n",
    "\n",
    "The \n",
    "gamma parameter controls the smoothness of the decision boundary. A very high gamma could create \"islands\" of classification around individual data points, potentially leading to overfitting and poor generalization, which could affect both types of errors.\n",
    "\n",
    "Our goal during tuning was to find a balance (C and gamma) that generalizes well to unseen data, minimizing the most critical errors (False Positives)."
   ]
  },
  {
   "cell_type": "markdown",
   "id": "c396fe9a",
   "metadata": {},
   "source": [
    "6. Conclusion\n",
    "This assignment successfully demonstrated the application of Support Vector Machines for classifying the Breast Cancer dataset. We observed that a basic SVM with default parameters already performed well, achieving 97.66% accuracy. However, through systematic hyperparameter tuning using \n",
    "\n",
    "GridSearchCV, we were able to find an optimal set of parameters (C=10, gamma=0.01, kernel='rbf') that marginally improved the model's accuracy to 98.25% and, more importantly, provided a robust evaluation of its performance. \n",
    "\n",
    "The analysis showed the model is highly effective, with very few misclassifications on the test set. This project highlights the importance of not just applying a machine learning model, but also of carefully tuning it and thoroughly evaluating its performance using appropriate metrics like the confusion matrix to understand its real-world implications. "
   ]
  }
 ],
 "metadata": {
  "kernelspec": {
   "display_name": "Python 3",
   "language": "python",
   "name": "python3"
  },
  "language_info": {
   "codemirror_mode": {
    "name": "ipython",
    "version": 3
   },
   "file_extension": ".py",
   "mimetype": "text/x-python",
   "name": "python",
   "nbconvert_exporter": "python",
   "pygments_lexer": "ipython3",
   "version": "3.13.6"
  }
 },
 "nbformat": 4,
 "nbformat_minor": 5
}
