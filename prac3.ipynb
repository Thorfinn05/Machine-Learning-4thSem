{
 "cells": [
  {
   "cell_type": "code",
   "execution_count": 28,
   "id": "ddaed362",
   "metadata": {},
   "outputs": [],
   "source": [
    "import math"
   ]
  },
  {
   "cell_type": "code",
   "execution_count": 29,
   "id": "b034a74b",
   "metadata": {},
   "outputs": [
    {
     "name": "stdout",
     "output_type": "stream",
     "text": [
      "It's hokey . There are virtually no surprises and the writing is second-grade . So why was it so enjoyable ! For one thing , the cast is great . Another nice touch is the music . I was overcome with the urge to get out of the couch and start dancing . It took me in and it will do the same to you .\n"
     ]
    }
   ],
   "source": [
    "with open (\"Movie Review.txt\") as file:\n",
    "    review = file.read()\n",
    "    print(review)"
   ]
  },
  {
   "cell_type": "code",
   "execution_count": 30,
   "id": "bea9bdbb",
   "metadata": {},
   "outputs": [
    {
     "name": "stdout",
     "output_type": "stream",
     "text": [
      "[\"it's\", 'hokey', '.', 'there', 'are', 'virtually', 'no', 'surprises', 'and', 'the', 'writing', 'is', 'second-grade', '.', 'so', 'why', 'was', 'it', 'so', 'enjoyable', '!', 'for', 'one', 'thing', ',', 'the', 'cast', 'is', 'great', '.', 'another', 'nice', 'touch', 'is', 'the', 'music', '.', 'i', 'was', 'overcome', 'with', 'the', 'urge', 'to', 'get', 'out', 'of', 'the', 'couch', 'and', 'start', 'dancing', '.', 'it', 'took', 'me', 'in', 'and', 'it', 'will', 'do', 'the', 'same', 'to', 'you', '.']\n"
     ]
    }
   ],
   "source": [
    "review = review.lower()\n",
    "words_modified = review.split()\n",
    "print(words_modified)"
   ]
  },
  {
   "cell_type": "code",
   "execution_count": 31,
   "id": "12fb6af9",
   "metadata": {},
   "outputs": [],
   "source": [
    "punctuations = [\",\", \".\", \"?\"]\n",
    "positive_words = [\"sure\", \"enjoyable\", \"great\", \"nice\", \"good\", \"fantastic\", \"wow\", \"charming\"]\n",
    "negative_words = [\"second-grade\", \"hokey\", \"bad\", \"boring\", \"break-up\", \"worthless\"]\n",
    "pronouns = ['i', \"me\", \"you\", \"they\", \"we\", \"he\", \"she\", \"them\"]\n"
   ]
  },
  {
   "cell_type": "code",
   "execution_count": 32,
   "id": "aeb2e89e",
   "metadata": {},
   "outputs": [],
   "source": [
    "features = [0,0,0,0,0,0]\n",
    "\n",
    "for word in words_modified:\n",
    "    if word in punctuations:\n",
    "        words_modified.remove(word)\n",
    "for word in words_modified:\n",
    "    features[5] += 1\n",
    "    if word in positive_words:\n",
    "        features[0] += 1\n",
    "    elif word in negative_words:\n",
    "        features[1] += 1\n",
    "    elif word in pronouns:\n",
    "        features[3] += 1\n",
    "    elif (word == \"no\"):\n",
    "        features[2] += 1\n",
    "    elif (word == \"!\"):\n",
    "        features[4] += 1\n",
    "features[5] = math.log(features[5])"
   ]
  },
  {
   "cell_type": "code",
   "execution_count": 33,
   "id": "230790f8",
   "metadata": {},
   "outputs": [
    {
     "name": "stdout",
     "output_type": "stream",
     "text": [
      "Positive words:  3\n",
      "Negative words:  2\n",
      "Number of no:  1\n",
      "Number of Prononuns:  3\n",
      "Number of Excalimation:  1\n",
      "Number of words(log): 4.0775\n"
     ]
    }
   ],
   "source": [
    "print(\"Positive words: \", features[0])\n",
    "print(\"Negative words: \", features[1])\n",
    "print(\"Number of no: \", features[2])\n",
    "print(\"Number of Prononuns: \", features[3])\n",
    "print(\"Number of Excalimation: \", features[4])\n",
    "print(f\"Number of words(log): {features[5]:.4f}\")"
   ]
  },
  {
   "cell_type": "code",
   "execution_count": 34,
   "id": "f61981a4",
   "metadata": {},
   "outputs": [
    {
     "name": "stdout",
     "output_type": "stream",
     "text": [
      "The Value of Z: 2.7543\n"
     ]
    }
   ],
   "source": [
    "weights = [2.5, -5.0, -1.2, 0.5, 2.0, 0.7]\n",
    "bias = 0.1\n",
    "z = 0\n",
    "\n",
    "for i in range(len(features)):\n",
    "    z = z + weights[i] * features[i]\n",
    "z = z + bias\n",
    "print(f\"The Value of Z: {z:.4f}\")"
   ]
  },
  {
   "cell_type": "code",
   "execution_count": 35,
   "id": "ba3bac3b",
   "metadata": {},
   "outputs": [
    {
     "name": "stdout",
     "output_type": "stream",
     "text": [
      "Sigmoid Value: 0.9401\n"
     ]
    }
   ],
   "source": [
    "def sigmoid(z):\n",
    "    result = 1/(1+(2.718**(-z)))\n",
    "    return result\n",
    "\n",
    "sigmoid_value = sigmoid(z)\n",
    "print(f\"Sigmoid Value: {sigmoid_value:.4f}\")"
   ]
  },
  {
   "cell_type": "code",
   "execution_count": 36,
   "id": "fc6332e1",
   "metadata": {},
   "outputs": [
    {
     "name": "stdout",
     "output_type": "stream",
     "text": [
      "The review is positive.\n"
     ]
    }
   ],
   "source": [
    "if (sigmoid_value <= 0.5):\n",
    "    print(\"The review is negative.\")\n",
    "else:\n",
    "    print(\"The review is positive.\")"
   ]
  },
  {
   "cell_type": "code",
   "execution_count": 37,
   "id": "4ca286c2",
   "metadata": {},
   "outputs": [
    {
     "name": "stdout",
     "output_type": "stream",
     "text": [
      "The positive loss: 0.0617\n",
      "The negative loss: 2.8157\n"
     ]
    }
   ],
   "source": [
    "def loss_function(y, yg):\n",
    "    result = -(yg * math.log(y) + ((1-yg) * math.log(1-y)))\n",
    "    return result\n",
    "\n",
    "positive_loss = loss_function(sigmoid_value, 1)\n",
    "negative_loss = loss_function(sigmoid_value, 0)\n",
    "\n",
    "print(f\"The positive loss: {positive_loss:.4f}\")\n",
    "print(f\"The negative loss: {negative_loss:.4f}\")"
   ]
  }
 ],
 "metadata": {
  "kernelspec": {
   "display_name": "Python 3",
   "language": "python",
   "name": "python3"
  },
  "language_info": {
   "codemirror_mode": {
    "name": "ipython",
    "version": 3
   },
   "file_extension": ".py",
   "mimetype": "text/x-python",
   "name": "python",
   "nbconvert_exporter": "python",
   "pygments_lexer": "ipython3",
   "version": "3.13.6"
  }
 },
 "nbformat": 4,
 "nbformat_minor": 5
}
