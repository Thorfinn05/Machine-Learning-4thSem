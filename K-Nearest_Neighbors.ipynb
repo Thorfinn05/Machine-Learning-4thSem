{
  "nbformat": 4,
  "nbformat_minor": 0,
  "metadata": {
    "colab": {
      "provenance": [],
      "authorship_tag": "ABX9TyM8Q8HaY6vO+eBWyZET7J/B",
      "include_colab_link": true
    },
    "kernelspec": {
      "name": "python3",
      "display_name": "Python 3"
    },
    "language_info": {
      "name": "python"
    }
  },
  "cells": [
    {
      "cell_type": "markdown",
      "metadata": {
        "id": "view-in-github",
        "colab_type": "text"
      },
      "source": [
        "<a href=\"https://colab.research.google.com/github/Thorfinn05/Machine-Learning-4thSem/blob/main/K-Nearest_Neighbors.ipynb\" target=\"_parent\"><img src=\"https://colab.research.google.com/assets/colab-badge.svg\" alt=\"Open In Colab\"/></a>"
      ]
    },
    {
      "cell_type": "markdown",
      "source": [
        "# K-Nearest Neighbors (KNN) classification"
      ],
      "metadata": {
        "id": "1fIkWDtDOWCV"
      }
    },
    {
      "cell_type": "code",
      "execution_count": 1,
      "metadata": {
        "id": "7jsTKtHIIQW1"
      },
      "outputs": [],
      "source": [
        "import math\n",
        "from collections import Counter\n"
      ]
    },
    {
      "cell_type": "markdown",
      "source": [
        "Step 1: Distance function (Euclidean)"
      ],
      "metadata": {
        "id": "8cLKrzR6N6m6"
      }
    },
    {
      "cell_type": "code",
      "source": [
        "def distance(p1, p2):\n",
        "    return math.sqrt(sum((x - y) ** 2 for x, y in zip(p1, p2)))\n"
      ],
      "metadata": {
        "id": "kZzPlJikNnM1"
      },
      "execution_count": 2,
      "outputs": []
    },
    {
      "cell_type": "markdown",
      "source": [
        "Step 2: KNN function"
      ],
      "metadata": {
        "id": "pHsA0ns6N_fy"
      }
    },
    {
      "cell_type": "code",
      "source": [
        "\n",
        "def knn(train_data, test_point, k=3):\n",
        "    # train_data is a list of tuples: ([features], label)\n",
        "\n",
        "    # Calculate distances from test_point to all training points\n",
        "    distances = []\n",
        "    for features, label in train_data:\n",
        "        d = distance(features, test_point)\n",
        "        distances.append((d, label))\n",
        "\n",
        "    # Sort by distance\n",
        "    distances.sort(key=lambda x: x[0])\n",
        "\n",
        "    # Pick k nearest neighbors\n",
        "    k_nearest = distances[:k]\n",
        "\n",
        "    # Get the labels of the k neighbors\n",
        "    labels = [label for _, label in k_nearest]\n",
        "\n",
        "    # Return the most common label\n",
        "    most_common = Counter(labels).most_common(1)[0][0]\n",
        "    return most_common\n"
      ],
      "metadata": {
        "id": "VRZh64r9Nvr3"
      },
      "execution_count": 3,
      "outputs": []
    },
    {
      "cell_type": "markdown",
      "source": [
        "Step 3: Example dataset (features, label)"
      ],
      "metadata": {
        "id": "XY891ApZOGZz"
      }
    },
    {
      "cell_type": "code",
      "source": [
        "train_data = [\n",
        "    ([1, 2], \"ClassA\"),\n",
        "    ([2, 3], \"ClassA\"),\n",
        "    ([3, 3], \"ClassA\"),\n",
        "    ([6, 8], \"ClassB\"),\n",
        "    ([7, 7], \"ClassB\"),\n",
        "    ([8, 9], \"ClassB\")\n",
        "]"
      ],
      "metadata": {
        "id": "-Z0JcziIOIFG"
      },
      "execution_count": 4,
      "outputs": []
    },
    {
      "cell_type": "markdown",
      "source": [
        "Step 4: Test the model"
      ],
      "metadata": {
        "id": "n9BzAjc4OKZv"
      }
    },
    {
      "cell_type": "code",
      "source": [
        "test_point = [5, 5]\n",
        "predicted_class = knn(train_data, test_point, k=3)"
      ],
      "metadata": {
        "id": "LcXl2XXqOMaV"
      },
      "execution_count": 5,
      "outputs": []
    },
    {
      "cell_type": "code",
      "source": [
        "print(\"Test Point:\", test_point)"
      ],
      "metadata": {
        "colab": {
          "base_uri": "https://localhost:8080/"
        },
        "id": "1yujVNbsOOOk",
        "outputId": "49af081d-1b66-42d7-aabc-de5c63195a9e"
      },
      "execution_count": 6,
      "outputs": [
        {
          "output_type": "stream",
          "name": "stdout",
          "text": [
            "Test Point: [5, 5]\n"
          ]
        }
      ]
    },
    {
      "cell_type": "code",
      "source": [
        "print(\"Predicted Class:\", predicted_class)"
      ],
      "metadata": {
        "colab": {
          "base_uri": "https://localhost:8080/"
        },
        "id": "fpLVNGbIOP2L",
        "outputId": "ccc73901-478b-4cd4-dbec-3ef81bd25424"
      },
      "execution_count": 7,
      "outputs": [
        {
          "output_type": "stream",
          "name": "stdout",
          "text": [
            "Predicted Class: ClassB\n"
          ]
        }
      ]
    }
  ]
}