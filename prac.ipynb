{
 "cells": [
  {
   "cell_type": "code",
   "execution_count": 20,
   "id": "16dcb421",
   "metadata": {},
   "outputs": [],
   "source": [
    "import numpy as np\n",
    "import pandas as pd\n",
    "import csv\n",
    "import math"
   ]
  },
  {
   "cell_type": "code",
   "execution_count": 16,
   "id": "caabd646",
   "metadata": {},
   "outputs": [
    {
     "name": "stdout",
     "output_type": "stream",
     "text": [
      "     Outlook Temperature Humidity   Windy Play Football\n",
      "0      Sunny         Hot     High    Weak            No\n",
      "1      Sunny         Hot     High  Strong            No\n",
      "2   Overcast         Hot     High    Weak           Yes\n",
      "3      Rainy        Mild     High    Weak           Yes\n",
      "4      Rainy        Cool   Normal    Weak           Yes\n",
      "5      Rainy        Cool   Normal  Strong            No\n",
      "6   Overcast        Cool   Normal  Strong           Yes\n",
      "7      Sunny        Mild     High    Weak            No\n",
      "8      Sunny        Cool   Normal    Weak           Yes\n",
      "9      Rainy        Mild   Normal    Weak           Yes\n",
      "10     Sunny        Mild   Normal  Strong           Yes\n",
      "11  Overcast        Mild     High  Strong           Yes\n",
      "12  Overcast         Hot   Normal    Weak           Yes\n",
      "13     Rainy        Mild     High  Strong            No\n"
     ]
    }
   ],
   "source": [
    "data = pd.read_csv(\"Weather-D.csv\")\n",
    "print(data)"
   ]
  },
  {
   "cell_type": "code",
   "execution_count": 12,
   "id": "1b5a0c9a",
   "metadata": {},
   "outputs": [
    {
     "name": "stdout",
     "output_type": "stream",
     "text": [
      "Sunny:  5 Sunny_Y:  2 Sunny_N:  3\n"
     ]
    }
   ],
   "source": [
    "Sunny = len(data[data[\"Outlook\"] == \"Sunny\" ])\n",
    "Sunny_Y = len(data[(data[\"Outlook\"] == \"Sunny\") & (data[\"Play Football\"] == \"Yes\")])\n",
    "Sunny_N = len(data[(data[\"Outlook\"] == \"Sunny\") & (data[\"Play Football\"] == \"No\")])\n",
    "print(\"Sunny: \",Sunny, \"Sunny_Y: \", Sunny_Y, \"Sunny_N: \", Sunny_N)"
   ]
  },
  {
   "cell_type": "code",
   "execution_count": 11,
   "id": "f2d527bc",
   "metadata": {},
   "outputs": [
    {
     "name": "stdout",
     "output_type": "stream",
     "text": [
      "Overcast:  4   Overcast_Y:  4   Overcast_N:  0\n"
     ]
    }
   ],
   "source": [
    "Overcast = len(data[data['Outlook'] == 'Overcast'])\n",
    "Overcast_Y = len(data[(data['Outlook'] == 'Overcast') & (data['Play Football'] == 'Yes')])\n",
    "Overcast_N = len(data[(data['Outlook'] == 'Overcast') & (data['Play Football'] == 'No')])\n",
    "print(\"Overcast: \", Overcast, \" \", \"Overcast_Y: \", Overcast_Y, \" \", \"Overcast_N: \", Overcast_N)"
   ]
  },
  {
   "cell_type": "code",
   "execution_count": 18,
   "id": "bab6ac61",
   "metadata": {},
   "outputs": [
    {
     "name": "stdout",
     "output_type": "stream",
     "text": [
      "Rainy:  5   Rainy_Y:  3   Rainy_N:  2\n"
     ]
    }
   ],
   "source": [
    "Rainy = len(data[data['Outlook'] == 'Rainy'])\n",
    "Rainy_Y = len(data[(data['Outlook'] == 'Rainy') & (data['Play Football'] == 'Yes')])\n",
    "Rainy_N = len(data[(data['Outlook'] == 'Rainy') & (data['Play Football'] == 'No')])\n",
    "print(\"Rainy: \", Rainy, \" \", \"Rainy_Y: \", Rainy_Y, \" \", \"Rainy_N: \", Rainy_N)"
   ]
  },
  {
   "cell_type": "code",
   "execution_count": 19,
   "id": "df85039c",
   "metadata": {},
   "outputs": [],
   "source": [
    "total_yes = len(data[data[\"Play Football\"] == \"Yes\"])\n",
    "total_no = len(data[data[\"Play Football\"] == \"No\"])\n",
    "total = total_yes + total_no"
   ]
  },
  {
   "cell_type": "code",
   "execution_count": 21,
   "id": "16d03625",
   "metadata": {},
   "outputs": [],
   "source": [
    "def entropy(pos, neg):\n",
    "    total = pos + neg\n",
    "    if total == 0 or pos == 0 or neg == 0:\n",
    "        return 0\n",
    "    p_pos = pos/total\n",
    "    p_neg = neg/total\n",
    "    return -p_pos * math.log2(p_pos) - p_neg * math.log2(p_neg)"
   ]
  },
  {
   "cell_type": "code",
   "execution_count": 22,
   "id": "ff064043",
   "metadata": {},
   "outputs": [
    {
     "name": "stdout",
     "output_type": "stream",
     "text": [
      "0.9402859586706311\n"
     ]
    }
   ],
   "source": [
    "entropy_total = entropy(total_yes, total_no)\n",
    "print(entropy_total)"
   ]
  },
  {
   "cell_type": "code",
   "execution_count": 24,
   "id": "fdfe01fb",
   "metadata": {},
   "outputs": [
    {
     "name": "stdout",
     "output_type": "stream",
     "text": [
      "0.9709505944546686\n",
      "0\n",
      "0.9709505944546686\n"
     ]
    }
   ],
   "source": [
    "entropy_sunny = entropy(Sunny_Y, Sunny_N)\n",
    "print(entropy_sunny)\n",
    "entropy_overcast = entropy(Overcast_Y, Overcast_N)\n",
    "print(entropy_overcast)\n",
    "entropy_rainy = entropy(Rainy_Y, Rainy_N)\n",
    "print(entropy_rainy)"
   ]
  },
  {
   "cell_type": "code",
   "execution_count": 25,
   "id": "c8981ccc",
   "metadata": {},
   "outputs": [
    {
     "name": "stdout",
     "output_type": "stream",
     "text": [
      "0.35714285714285715 0.2857142857142857 0.35714285714285715\n"
     ]
    }
   ],
   "source": [
    "weight_sunny = Sunny/total\n",
    "weight_rainy = Rainy/total\n",
    "weight_overcast = Overcast/total\n",
    "print(weight_sunny, weight_overcast, weight_rainy)"
   ]
  },
  {
   "cell_type": "code",
   "execution_count": 26,
   "id": "3256a7fe",
   "metadata": {},
   "outputs": [
    {
     "name": "stdout",
     "output_type": "stream",
     "text": [
      "0.6935361388961918\n"
     ]
    }
   ],
   "source": [
    "weighted_entropy_outlook = (weight_sunny * entropy_sunny) + (weight_overcast * entropy_overcast) + (weight_rainy * entropy_rainy)\n",
    "print(weighted_entropy_outlook)"
   ]
  },
  {
   "cell_type": "code",
   "execution_count": 27,
   "id": "4ebbde2f",
   "metadata": {},
   "outputs": [
    {
     "name": "stdout",
     "output_type": "stream",
     "text": [
      "0.24674981977443933\n"
     ]
    }
   ],
   "source": [
    "gain_outlook = entropy_total - weighted_entropy_outlook\n",
    "print(gain_outlook)"
   ]
  }
 ],
 "metadata": {
  "kernelspec": {
   "display_name": "Python 3",
   "language": "python",
   "name": "python3"
  },
  "language_info": {
   "codemirror_mode": {
    "name": "ipython",
    "version": 3
   },
   "file_extension": ".py",
   "mimetype": "text/x-python",
   "name": "python",
   "nbconvert_exporter": "python",
   "pygments_lexer": "ipython3",
   "version": "3.13.6"
  }
 },
 "nbformat": 4,
 "nbformat_minor": 5
}
