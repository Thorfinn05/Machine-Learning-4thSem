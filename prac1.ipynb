{
 "cells": [
  {
   "cell_type": "code",
   "execution_count": 21,
   "id": "c85e4bdd",
   "metadata": {},
   "outputs": [],
   "source": [
    "import numpy as np\n",
    "import pandas as pd\n",
    "import csv\n",
    "import math"
   ]
  },
  {
   "cell_type": "code",
   "execution_count": 22,
   "id": "97475469",
   "metadata": {},
   "outputs": [
    {
     "name": "stdout",
     "output_type": "stream",
     "text": [
      "     Outlook Temperature Humidity   Windy Play Football\n",
      "0      Sunny         Hot     High    Weak            No\n",
      "1      Sunny         Hot     High  Strong            No\n",
      "2   Overcast         Hot     High    Weak           Yes\n",
      "3      Rainy        Mild     High    Weak           Yes\n",
      "4      Rainy        Cool   Normal    Weak           Yes\n",
      "5      Rainy        Cool   Normal  Strong            No\n",
      "6   Overcast        Cool   Normal  Strong           Yes\n",
      "7      Sunny        Mild     High    Weak            No\n",
      "8      Sunny        Cool   Normal    Weak           Yes\n",
      "9      Rainy        Mild   Normal    Weak           Yes\n",
      "10     Sunny        Mild   Normal  Strong           Yes\n",
      "11  Overcast        Mild     High  Strong           Yes\n",
      "12  Overcast         Hot   Normal    Weak           Yes\n",
      "13     Rainy        Mild     High  Strong            No\n"
     ]
    }
   ],
   "source": [
    "data = pd.read_csv(\"Weather-D.csv\")\n",
    "print(data)"
   ]
  },
  {
   "cell_type": "code",
   "execution_count": 23,
   "id": "1cc150d1",
   "metadata": {},
   "outputs": [
    {
     "name": "stdout",
     "output_type": "stream",
     "text": [
      "14 9 5\n"
     ]
    }
   ],
   "source": [
    "total_yes = len(data[data[\"Play Football\"] == \"Yes\"])\n",
    "total_nos = len(data[data[\"Play Football\"] == \"No\"])\n",
    "total = total_yes + total_nos\n",
    "print(total, total_yes, total_nos)\n"
   ]
  },
  {
   "cell_type": "code",
   "execution_count": 24,
   "id": "0113a137",
   "metadata": {},
   "outputs": [],
   "source": [
    "def entropy(pos, neg):\n",
    "    total = pos + neg\n",
    "    if total == 0 or pos == 0 or neg == 0:\n",
    "        return 0\n",
    "    p_pos = pos/total\n",
    "    p_neg = neg/total\n",
    "    return -p_pos * math.log2(p_pos) - p_neg * math.log2(p_neg)"
   ]
  },
  {
   "cell_type": "code",
   "execution_count": 25,
   "id": "6621b0f3",
   "metadata": {},
   "outputs": [
    {
     "name": "stdout",
     "output_type": "stream",
     "text": [
      "0.9402859586706311\n"
     ]
    }
   ],
   "source": [
    "entropy_total = entropy(total_yes, total_nos)\n",
    "print(entropy_total)"
   ]
  },
  {
   "cell_type": "code",
   "execution_count": 34,
   "id": "27277b4b",
   "metadata": {},
   "outputs": [],
   "source": [
    "def calc_gain(attribute):\n",
    "    categories = data[attribute].unique()\n",
    "    weighted_entropy = 0\n",
    "    print(f\"\\nCalculating Information Gain for feature: {attribute}\")\n",
    "    for cat in categories:\n",
    "        subset = data[data[attribute] == cat]\n",
    "        pos = len(subset[subset[\"Play Football\"] == \"Yes\"])\n",
    "        neg = len(subset[subset[\"Play Football\"] == \"No\"])\n",
    "        ent = entropy(pos, neg)\n",
    "        weight = len(subset)/total\n",
    "        weighted_entropy += weight * ent\n",
    "        print(f\"{cat} -> Yes: {pos}, No: {neg}, Entropy: {ent:.4f}\")\n",
    "    gain = entropy_total - weighted_entropy\n",
    "    print(f\"Gain of {attribute}: {gain:.4f}\")\n",
    "    return round(gain, 4)"
   ]
  },
  {
   "cell_type": "code",
   "execution_count": 36,
   "id": "5051cc8b",
   "metadata": {},
   "outputs": [
    {
     "name": "stdout",
     "output_type": "stream",
     "text": [
      "\n",
      "Calculating Information Gain for feature: Outlook\n",
      "Sunny -> Yes: 2, No: 3, Entropy: 0.9710\n",
      "Overcast -> Yes: 4, No: 0, Entropy: 0.0000\n",
      "Rainy -> Yes: 3, No: 2, Entropy: 0.9710\n",
      "Gain of Outlook: 0.2467\n",
      "\n",
      "Calculating Information Gain for feature: Windy\n",
      "Weak -> Yes: 6, No: 2, Entropy: 0.8113\n",
      "Strong -> Yes: 3, No: 3, Entropy: 1.0000\n",
      "Gain of Windy: 0.0481\n",
      "\n",
      "Calculating Information Gain for feature: Humidity\n",
      "High -> Yes: 3, No: 4, Entropy: 0.9852\n",
      "Normal -> Yes: 6, No: 1, Entropy: 0.5917\n",
      "Gain of Humidity: 0.1518\n",
      "\n",
      "Calculating Information Gain for feature: Temperature\n",
      "Hot -> Yes: 2, No: 2, Entropy: 1.0000\n",
      "Mild -> Yes: 4, No: 2, Entropy: 0.9183\n",
      "Cool -> Yes: 3, No: 1, Entropy: 0.8113\n",
      "Gain of Temperature: 0.0292\n",
      "0.2467 0.0292 0.0481 0.1518\n"
     ]
    }
   ],
   "source": [
    "gain_outlook  = calc_gain(\"Outlook\")\n",
    "gain_windy = calc_gain(\"Windy\")\n",
    "gain_humidity = calc_gain(\"Humidity\")\n",
    "gain_temperature = calc_gain(\"Temperature\")\n",
    "print(gain_outlook, gain_temperature, gain_windy, gain_humidity)"
   ]
  },
  {
   "cell_type": "code",
   "execution_count": 16,
   "id": "db9e458a",
   "metadata": {},
   "outputs": [
    {
     "name": "stdout",
     "output_type": "stream",
     "text": [
      "{'Outlook': 0.2467, 'Temperature': 0.0292, 'Windy': 0.0481, 'Humidity': 0.1518}\n"
     ]
    }
   ],
   "source": [
    "gains = {\n",
    "    'Outlook': gain_outlook,\n",
    "    'Temperature': gain_temperature,\n",
    "    'Windy': gain_windy,\n",
    "    'Humidity': gain_humidity\n",
    "}\n",
    "print(gains)"
   ]
  },
  {
   "cell_type": "code",
   "execution_count": 18,
   "id": "48fcca4d",
   "metadata": {},
   "outputs": [
    {
     "name": "stdout",
     "output_type": "stream",
     "text": [
      "Outlook\n"
     ]
    }
   ],
   "source": [
    "root_node = max(gains, key=gains.get)\n",
    "print(root_node)"
   ]
  }
 ],
 "metadata": {
  "kernelspec": {
   "display_name": "Python 3",
   "language": "python",
   "name": "python3"
  },
  "language_info": {
   "codemirror_mode": {
    "name": "ipython",
    "version": 3
   },
   "file_extension": ".py",
   "mimetype": "text/x-python",
   "name": "python",
   "nbconvert_exporter": "python",
   "pygments_lexer": "ipython3",
   "version": "3.13.6"
  }
 },
 "nbformat": 4,
 "nbformat_minor": 5
}
