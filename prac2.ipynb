{
 "cells": [
  {
   "cell_type": "code",
   "execution_count": 1,
   "id": "b1189718",
   "metadata": {},
   "outputs": [],
   "source": [
    "import pandas as pd"
   ]
  },
  {
   "cell_type": "code",
   "execution_count": 2,
   "id": "9a77b649",
   "metadata": {},
   "outputs": [
    {
     "name": "stdout",
     "output_type": "stream",
     "text": [
      "     Outlook Temperature Humidity   Windy Play Football\n",
      "0      Sunny         Hot     High    Weak            No\n",
      "1      Sunny         Hot     High  Strong            No\n",
      "2   Overcast         Hot     High    Weak           Yes\n",
      "3      Rainy        Mild     High    Weak           Yes\n",
      "4      Rainy        Cool   Normal    Weak           Yes\n",
      "5      Rainy        Cool   Normal  Strong            No\n",
      "6   Overcast        Cool   Normal  Strong           Yes\n",
      "7      Sunny        Mild     High    Weak            No\n",
      "8      Sunny        Cool   Normal    Weak           Yes\n",
      "9      Rainy        Mild   Normal    Weak           Yes\n",
      "10     Sunny        Mild   Normal  Strong           Yes\n",
      "11  Overcast        Mild     High  Strong           Yes\n",
      "12  Overcast         Hot   Normal    Weak           Yes\n",
      "13     Rainy        Mild     High  Strong            No\n"
     ]
    }
   ],
   "source": [
    "data = pd.read_csv(\"Weather-D.csv\")\n",
    "print(data)"
   ]
  },
  {
   "cell_type": "code",
   "execution_count": 3,
   "id": "12b9a235",
   "metadata": {},
   "outputs": [],
   "source": [
    "def gini_index(pos, neg):\n",
    "    total = pos + neg\n",
    "    if total == 0:\n",
    "        return 0\n",
    "    p_pos = pos/total\n",
    "    p_neg = neg/total\n",
    "    return 1 - (p_pos**2 + p_neg**2)"
   ]
  },
  {
   "cell_type": "code",
   "execution_count": 14,
   "id": "2d9a1fbf",
   "metadata": {},
   "outputs": [
    {
     "name": "stdout",
     "output_type": "stream",
     "text": [
      "14 9 5\n"
     ]
    }
   ],
   "source": [
    "total_yes = len(data[data[\"Play Football\"] == \"Yes\"])\n",
    "total_no = len(data[data[\"Play Football\"] == \"No\"])\n",
    "total = total_yes + total_no\n",
    "print(total, total_yes, total_no)"
   ]
  },
  {
   "cell_type": "code",
   "execution_count": 15,
   "id": "575b9e4d",
   "metadata": {},
   "outputs": [
    {
     "name": "stdout",
     "output_type": "stream",
     "text": [
      " 0.4592\n"
     ]
    }
   ],
   "source": [
    "total_gini = gini_index(total_yes, total_no)\n",
    "print(f\" {total_gini:.4f}\")"
   ]
  },
  {
   "cell_type": "code",
   "execution_count": 19,
   "id": "f91f30ee",
   "metadata": {},
   "outputs": [
    {
     "name": "stdout",
     "output_type": "stream",
     "text": [
      "\n",
      "Calculating Gini Gain for feature: Outlook\n",
      " Sunny -> Yes: 2, No: 3, Gini: 0.4800\n",
      " Overcast -> Yes: 4, No: 0, Gini: 0.0000\n",
      " Rainy -> Yes: 3, No: 2, Gini: 0.4800\n",
      " Gini gain for Outlook: 0.1163\n",
      "\n",
      "Calculating Gini Gain for feature: Temperature\n",
      " Hot -> Yes: 2, No: 2, Gini: 0.5000\n",
      " Mild -> Yes: 4, No: 2, Gini: 0.4444\n",
      " Cool -> Yes: 3, No: 1, Gini: 0.3750\n",
      " Gini gain for Temperature: 0.0187\n",
      "\n",
      "Calculating Gini Gain for feature: Windy\n",
      " Weak -> Yes: 6, No: 2, Gini: 0.3750\n",
      " Strong -> Yes: 3, No: 3, Gini: 0.5000\n",
      " Gini gain for Windy: 0.0306\n",
      "\n",
      "Calculating Gini Gain for feature: Humidity\n",
      " High -> Yes: 3, No: 4, Gini: 0.4898\n",
      " Normal -> Yes: 6, No: 1, Gini: 0.2449\n",
      " Gini gain for Humidity: 0.0918\n"
     ]
    }
   ],
   "source": [
    "features = [\"Outlook\", \"Temperature\", \"Windy\", \"Humidity\"]\n",
    "gini_results = {}\n",
    "\n",
    "for feature in features:\n",
    "    feature_values = data[feature].unique()\n",
    "    feature_gini = 0\n",
    "    print(f\"\\nCalculating Gini Gain for feature: {feature}\")\n",
    "    for value in feature_values:\n",
    "        subset = data[data[feature] == value]\n",
    "        pos = len(subset[subset[\"Play Football\"] == \"Yes\"])\n",
    "        neg = len(subset[subset[\"Play Football\"] == \"No\"])\n",
    "        gini = gini_index(pos, neg)\n",
    "        weight = (pos+neg)/total\n",
    "        feature_gini += weight * gini\n",
    "        print(f\" {value} -> Yes: {pos}, No: {neg}, Gini: {gini:.4f}\")\n",
    "    gini_gain = total_gini - feature_gini\n",
    "    gini_results[feature] = gini_gain\n",
    "    print(f\" Gini gain for {feature}: {gini_gain:.4f}\")\n"
   ]
  },
  {
   "cell_type": "code",
   "execution_count": 21,
   "id": "c2f4d18f",
   "metadata": {},
   "outputs": [
    {
     "name": "stdout",
     "output_type": "stream",
     "text": [
      "\n",
      "----Summary----\n",
      "Outlook : 0.1163\n",
      "Temperature : 0.0187\n",
      "Windy : 0.0306\n",
      "Humidity : 0.0918\n",
      "\n",
      " Root node should be Outlook (Highest Gini gain: 0.1163)\n"
     ]
    }
   ],
   "source": [
    "best_feature = max(gini_results, key=gini_results.get)\n",
    "print(\"\\n----Summary----\")\n",
    "for feature, gini_gain in gini_results.items():\n",
    "    print(f\"{feature} : {gini_gain:.4f}\")\n",
    "print(f\"\\n Root node should be {best_feature} (Highest Gini gain: {gini_results[best_feature]:.4f})\")"
   ]
  }
 ],
 "metadata": {
  "kernelspec": {
   "display_name": "Python 3",
   "language": "python",
   "name": "python3"
  },
  "language_info": {
   "codemirror_mode": {
    "name": "ipython",
    "version": 3
   },
   "file_extension": ".py",
   "mimetype": "text/x-python",
   "name": "python",
   "nbconvert_exporter": "python",
   "pygments_lexer": "ipython3",
   "version": "3.13.6"
  }
 },
 "nbformat": 4,
 "nbformat_minor": 5
}
