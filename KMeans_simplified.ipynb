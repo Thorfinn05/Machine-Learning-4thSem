{
  "nbformat": 4,
  "nbformat_minor": 0,
  "metadata": {
    "colab": {
      "provenance": [],
      "authorship_tag": "ABX9TyOw5eS55XS3+PGhTxLP8l8F",
      "include_colab_link": true
    },
    "kernelspec": {
      "name": "python3",
      "display_name": "Python 3"
    },
    "language_info": {
      "name": "python"
    }
  },
  "cells": [
    {
      "cell_type": "markdown",
      "metadata": {
        "id": "view-in-github",
        "colab_type": "text"
      },
      "source": [
        "<a href=\"https://colab.research.google.com/github/Thorfinn05/Machine-Learning-4thSem/blob/main/KMeans_simplified.ipynb\" target=\"_parent\"><img src=\"https://colab.research.google.com/assets/colab-badge.svg\" alt=\"Open In Colab\"/></a>"
      ]
    },
    {
      "cell_type": "code",
      "execution_count": 8,
      "metadata": {
        "id": "TQBGcMCyDvAG"
      },
      "outputs": [],
      "source": [
        "\n",
        "import random\n",
        "import math\n"
      ]
    },
    {
      "cell_type": "code",
      "source": [
        "def distance(point1, point2):\n",
        "    total = 0\n",
        "    for i in range(len(point1)):\n",
        "        total += (point1[i] - point2[i]) ** 2\n",
        "    return math.sqrt(total)\n"
      ],
      "metadata": {
        "id": "BKQO4rfHD_Z6"
      },
      "execution_count": 9,
      "outputs": []
    },
    {
      "cell_type": "code",
      "source": [
        "def mean(points):\n",
        "    n = len(points)\n",
        "    dims = len(points[0])\n",
        "    result = []\n",
        "    for i in range(dims):\n",
        "        s = 0\n",
        "        for j in range(n):\n",
        "            s += points[j][i]\n",
        "        result.append(s / n)\n",
        "    return result\n"
      ],
      "metadata": {
        "id": "nfktvNvHEEAp"
      },
      "execution_count": 10,
      "outputs": []
    },
    {
      "cell_type": "code",
      "source": [
        "def kmeans(data, k, max_iters=100):\n",
        "    centroids = random.sample(data, k)\n",
        "    for _ in range(max_iters):\n",
        "        clusters = [[] for _ in range(k)]\n",
        "        for point in data:\n",
        "            distances = []\n",
        "            for c in centroids:\n",
        "                d = distance(point, c)\n",
        "                distances.append(d)\n",
        "            min_index = distances.index(min(distances))\n",
        "            clusters[min_index].append(point)\n",
        "\n",
        "        new_centroids = []\n",
        "        for cluster in clusters:\n",
        "            if cluster:\n",
        "                new_c = mean(cluster)\n",
        "            else:\n",
        "                new_c = random.choice(data)\n",
        "            new_centroids.append(new_c)\n",
        "\n",
        "        if new_centroids == centroids:\n",
        "            break\n",
        "        centroids = new_centroids\n",
        "\n",
        "    return centroids, clusters\n"
      ],
      "metadata": {
        "id": "LpyeEnD2EHR6"
      },
      "execution_count": 11,
      "outputs": []
    },
    {
      "cell_type": "code",
      "source": [
        "data = [\n",
        "    [1, 2], [1.5, 1.8], [5, 8],\n",
        "    [8, 8], [1, 0.6], [9, 11],\n",
        "    [8, 2], [10, 2], [9, 3]\n",
        "]\n",
        "\n",
        "final_centroids, final_clusters = kmeans(data, k=3)\n"
      ],
      "metadata": {
        "id": "Z_sVdG5nEMED"
      },
      "execution_count": 12,
      "outputs": []
    },
    {
      "cell_type": "code",
      "source": [
        "print(\"Centroids:\")\n",
        "for c in final_centroids:\n",
        "    print(c)\n"
      ],
      "metadata": {
        "colab": {
          "base_uri": "https://localhost:8080/"
        },
        "id": "-Igrk4x3EPcc",
        "outputId": "6a96660f-7ef0-433e-cc3f-45563d7c2423"
      },
      "execution_count": 13,
      "outputs": [
        {
          "output_type": "stream",
          "name": "stdout",
          "text": [
            "Centroids:\n",
            "[1.1666666666666667, 1.4666666666666666]\n",
            "[9.0, 2.3333333333333335]\n",
            "[7.333333333333333, 9.0]\n"
          ]
        }
      ]
    },
    {
      "cell_type": "code",
      "source": [
        "print(\"\\nClusters:\")\n",
        "for i, cluster in enumerate(final_clusters):\n",
        "    print(\"Cluster\", i+1, \":\", cluster)"
      ],
      "metadata": {
        "colab": {
          "base_uri": "https://localhost:8080/"
        },
        "id": "ok6_dxeAERu7",
        "outputId": "50106883-0093-41bc-f561-fdd7f11b7049"
      },
      "execution_count": 14,
      "outputs": [
        {
          "output_type": "stream",
          "name": "stdout",
          "text": [
            "\n",
            "Clusters:\n",
            "Cluster 1 : [[1, 2], [1.5, 1.8], [1, 0.6]]\n",
            "Cluster 2 : [[8, 2], [10, 2], [9, 3]]\n",
            "Cluster 3 : [[5, 8], [8, 8], [9, 11]]\n"
          ]
        }
      ]
    }
  ]
}