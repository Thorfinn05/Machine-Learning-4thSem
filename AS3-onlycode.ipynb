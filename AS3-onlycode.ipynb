{
 "cells": [
  {
   "cell_type": "markdown",
   "id": "f516db1e",
   "metadata": {},
   "source": [
    "Part A: Classification using SVM (Basic Model)\n",
    "\n",
    "First, we'll load the dataset, split it into training and testing sets, and standardize the features. Then, we'll train a basic SVM classifier with default parameters."
   ]
  },
  {
   "cell_type": "code",
   "execution_count": null,
   "id": "8b14fd67",
   "metadata": {
    "vscode": {
     "languageId": "plaintext"
    }
   },
   "outputs": [],
   "source": [
    "# 1. Import necessary libraries\n",
    "import numpy as np\n",
    "import pandas as pd\n",
    "import matplotlib.pyplot as plt\n",
    "import seaborn as sns\n",
    "from sklearn.datasets import load_breast_cancer\n",
    "from sklearn.model_selection import train_test_split\n",
    "from sklearn.preprocessing import StandardScaler\n",
    "from sklearn.svm import SVC\n",
    "from sklearn.metrics import confusion_matrix, accuracy_score, classification_report"
   ]
  },
  {
   "cell_type": "code",
   "execution_count": null,
   "id": "238f592e",
   "metadata": {
    "vscode": {
     "languageId": "plaintext"
    }
   },
   "outputs": [],
   "source": [
    "# 2. Data Preparation [cite: 23]\n",
    "# Load the dataset\n",
    "cancer = load_breast_cancer()\n",
    "X = cancer.data\n",
    "y = cancer.target\n",
    "\n",
    "# Split data into training (70%) and testing (30%) sets \n",
    "X_train, X_test, y_train, y_test = train_test_split(\n",
    "    X, y, test_size=0.3, random_state=42\n",
    ")\n",
    "\n",
    "# Standardize features \n",
    "# Scaling is important for SVM as it is sensitive to feature ranges\n",
    "scaler = StandardScaler()\n",
    "X_train_scaled = scaler.fit_transform(X_train)\n",
    "X_test_scaled = scaler.transform(X_test)\n"
   ]
  },
  {
   "cell_type": "code",
   "execution_count": null,
   "id": "b2b944b0",
   "metadata": {
    "vscode": {
     "languageId": "plaintext"
    }
   },
   "outputs": [],
   "source": [
    "# 3. Model Training (Basic) [cite: 27]\n",
    "# Train a basic SVM classifier with default parameters\n",
    "basic_svm = SVC(random_state=42)\n",
    "basic_svm.fit(X_train_scaled, y_train)\n",
    "\n",
    "# 4. Evaluation \n",
    "y_pred_basic = basic_svm.predict(X_test_scaled)\n",
    "accuracy = accuracy_score(y_test, y_pred_basic)\n",
    "cm = confusion_matrix(y_test, y_pred_basic)\n",
    "\n",
    "print(\"--- Basic SVM Model Evaluation ---\")\n",
    "print(f\"Accuracy: {accuracy:.4f}\")\n",
    "print(\"\\nConfusion Matrix:\")\n",
    "print(cm)\n",
    "\n",
    "# Visualize the confusion matrix\n",
    "plt.figure(figsize=(6, 4))\n",
    "sns.heatmap(cm, annot=True, fmt='d', cmap='Blues', xticklabels=cancer.target_names, yticklabels=cancer.target_names)\n",
    "plt.xlabel('Predicted')\n",
    "plt.ylabel('Actual')\n",
    "plt.title('Confusion Matrix for Basic SVM')\n",
    "plt.show()"
   ]
  },
  {
   "cell_type": "markdown",
   "id": "3144f524",
   "metadata": {},
   "source": [
    "Part B: Hyperparameter Tuning\n",
    "\n",
    "Now, we will use GridSearchCV and RandomizedSearchCV to find the optimal hyperparameters for our SVM model."
   ]
  },
  {
   "cell_type": "markdown",
   "id": "3a3d2aa0",
   "metadata": {},
   "source": [
    "Code for GridSearchCV"
   ]
  },
  {
   "cell_type": "code",
   "execution_count": null,
   "id": "a1323002",
   "metadata": {
    "vscode": {
     "languageId": "plaintext"
    }
   },
   "outputs": [],
   "source": [
    "from sklearn.model_selection import GridSearchCV\n",
    "import time\n",
    "\n",
    "# 1. Define the parameter grid [cite: 33]\n",
    "param_grid = {\n",
    "    'C': [0.1, 1, 10],            # [cite: 36]\n",
    "    'gamma': [0.001, 0.01, 0.1],   # [cite: 37]\n",
    "    'kernel': ['rbf', 'poly']     # [cite: 38]\n",
    "}\n",
    "\n",
    "# 2. Perform GridSearchCV with 5-fold cross-validation \n",
    "grid_search = GridSearchCV(\n",
    "    estimator=SVC(random_state=42),\n",
    "    param_grid=param_grid,\n",
    "    cv=5,\n",
    "    verbose=2,\n",
    "    n_jobs=-1  # Use all available CPU cores\n",
    ")\n",
    "\n",
    "# Record start time\n",
    "start_time_grid = time.time()\n",
    "\n",
    "# Fit the grid search to the data\n",
    "grid_search.fit(X_train_scaled, y_train)\n",
    "\n",
    "# Record end time\n",
    "end_time_grid = time.time()\n",
    "grid_search_time = end_time_grid - start_time_grid\n",
    "\n",
    "# 3. Record best parameters and score \n",
    "print(\"\\n--- GridSearchCV Results ---\")\n",
    "print(f\"Best Parameters found: {grid_search.best_params_}\")\n",
    "print(f\"Best Cross-Validation Score: {grid_search.best_score_:.4f}\")\n",
    "print(f\"GridSearchCV runtime: {grid_search_time:.4f} seconds\")\n",
    "\n",
    "# Best model from GridSearchCV\n",
    "best_svm_grid = grid_search.best_estimator_"
   ]
  },
  {
   "cell_type": "markdown",
   "id": "674229ac",
   "metadata": {},
   "source": [
    "Code for RandomizedSearchCV"
   ]
  },
  {
   "cell_type": "code",
   "execution_count": null,
   "id": "d8c3130b",
   "metadata": {
    "vscode": {
     "languageId": "plaintext"
    }
   },
   "outputs": [],
   "source": [
    "from sklearn.model_selection import RandomizedSearchCV\n",
    "from scipy.stats import uniform, randint\n",
    "\n",
    "# 1. Define wider parameter distributions \n",
    "param_dist = {\n",
    "    'C': uniform(0.1, 100),  # A continuous distribution between 0.1 and 100.1\n",
    "    'gamma': uniform(0.0001, 0.1),\n",
    "    'kernel': ['rbf', 'poly']\n",
    "}\n",
    "\n",
    "# 2. Run RandomizedSearchCV \n",
    "# n_iter specifies the number of parameter combinations to try\n",
    "random_search = RandomizedSearchCV(\n",
    "    estimator=SVC(random_state=42),\n",
    "    param_distributions=param_dist,\n",
    "    n_iter=18,  # Same number of iterations as GridSearchCV for a fair comparison\n",
    "    cv=5,\n",
    "    verbose=2,\n",
    "    random_state=42,\n",
    "    n_jobs=-1\n",
    ")\n",
    "\n",
    "# Record start time\n",
    "start_time_random = time.time()\n",
    "\n",
    "# Fit the random search to the data\n",
    "random_search.fit(X_train_scaled, y_train)\n",
    "\n",
    "# Record end time\n",
    "end_time_random = time.time()\n",
    "random_search_time = end_time_random - start_time_random\n",
    "\n",
    "# 3. Highlight differences \n",
    "print(\"\\n--- RandomizedSearchCV Results ---\")\n",
    "print(f\"Best Parameters found: {random_search.best_params_}\")\n",
    "print(f\"Best Cross-Validation Score: {random_search.best_score_:.4f}\")\n",
    "print(f\"RandomizedSearchCV runtime: {random_search_time:.4f} seconds\")"
   ]
  },
  {
   "cell_type": "markdown",
   "id": "69f4a2bb",
   "metadata": {},
   "source": [
    "Part C: Final Evaluation\n",
    "\n",
    "We will now use the best model found by GridSearchCV (as it is often more thorough for small search spaces) to make predictions on the test set and perform a detailed evaluation."
   ]
  },
  {
   "cell_type": "code",
   "execution_count": null,
   "id": "5763759e",
   "metadata": {
    "vscode": {
     "languageId": "plaintext"
    }
   },
   "outputs": [],
   "source": [
    "# 1. Predict on the test set with the best model \n",
    "y_pred_best = best_svm_grid.predict(X_test_scaled)\n",
    "\n",
    "# 2. Compute and interpret metrics \n",
    "final_accuracy = accuracy_score(y_test, y_pred_best)\n",
    "final_cm = confusion_matrix(y_test, y_pred_best)\n",
    "classification_rep = classification_report(y_test, y_pred_best, target_names=cancer.target_names)\n",
    "\n",
    "print(\"\\n--- Final Model Evaluation (Best SVM) ---\")\n",
    "print(f\"Final Accuracy on Test Set: {final_accuracy:.4f}\")\n",
    "print(\"\\nFinal Confusion Matrix:\")\n",
    "print(final_cm)\n",
    "print(\"\\nClassification Report:\")\n",
    "print(classification_rep)\n",
    "\n",
    "# Visualize the final confusion matrix\n",
    "plt.figure(figsize=(6, 4))\n",
    "sns.heatmap(final_cm, annot=True, fmt='d', cmap='Greens', xticklabels=cancer.target_names, yticklabels=cancer.target_names)\n",
    "plt.xlabel('Predicted')\n",
    "plt.ylabel('Actual')\n",
    "plt.title('Confusion Matrix for Best Tuned SVM')\n",
    "plt.show()"
   ]
  }
 ],
 "metadata": {
  "language_info": {
   "name": "python"
  }
 },
 "nbformat": 4,
 "nbformat_minor": 5
}
