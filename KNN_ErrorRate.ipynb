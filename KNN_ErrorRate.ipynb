{
  "nbformat": 4,
  "nbformat_minor": 0,
  "metadata": {
    "colab": {
      "provenance": [],
      "authorship_tag": "ABX9TyPakPWccGN1bfQwiNV2w6+Z",
      "include_colab_link": true
    },
    "kernelspec": {
      "name": "python3",
      "display_name": "Python 3"
    },
    "language_info": {
      "name": "python"
    }
  },
  "cells": [
    {
      "cell_type": "markdown",
      "metadata": {
        "id": "view-in-github",
        "colab_type": "text"
      },
      "source": [
        "<a href=\"https://colab.research.google.com/github/Thorfinn05/Machine-Learning-4thSem/blob/main/KNN_ErrorRate.ipynb\" target=\"_parent\"><img src=\"https://colab.research.google.com/assets/colab-badge.svg\" alt=\"Open In Colab\"/></a>"
      ]
    },
    {
      "cell_type": "markdown",
      "source": [
        "# KNN with Error Rate"
      ],
      "metadata": {
        "id": "y9zxB7zbToUv"
      }
    },
    {
      "cell_type": "code",
      "execution_count": 20,
      "metadata": {
        "id": "7jsTKtHIIQW1"
      },
      "outputs": [],
      "source": [
        "import math\n",
        "from collections import Counter\n"
      ]
    },
    {
      "cell_type": "markdown",
      "source": [
        "Distance function"
      ],
      "metadata": {
        "id": "RZT-RD8UTr4f"
      }
    },
    {
      "cell_type": "code",
      "source": [
        "def distance(p1, p2):\n",
        "    return math.sqrt(sum((x - y) ** 2 for x, y in zip(p1, p2)))\n"
      ],
      "metadata": {
        "id": "kZzPlJikNnM1"
      },
      "execution_count": 21,
      "outputs": []
    },
    {
      "cell_type": "markdown",
      "source": [
        "KNN function"
      ],
      "metadata": {
        "id": "_EfvHWOsTuX1"
      }
    },
    {
      "cell_type": "code",
      "source": [
        "def knn(train_data, test_point, k=3):\n",
        "    distances = []\n",
        "    for features, label in train_data:\n",
        "        d = distance(features, test_point)\n",
        "        distances.append((d, label))\n",
        "\n",
        "    # Sort by distance\n",
        "    distances.sort(key=lambda x: x[0])\n",
        "\n",
        "    # Pick k nearest neighbors\n",
        "    k_nearest = distances[:k]\n",
        "\n",
        "    # Majority vote\n",
        "    labels = [label for _, label in k_nearest]\n",
        "    most_common = Counter(labels).most_common(1)[0][0]\n",
        "    return most_common\n"
      ],
      "metadata": {
        "id": "VRZh64r9Nvr3"
      },
      "execution_count": 22,
      "outputs": []
    },
    {
      "cell_type": "markdown",
      "source": [
        "Training data (features, label)"
      ],
      "metadata": {
        "id": "ncjeSOncT5aX"
      }
    },
    {
      "cell_type": "code",
      "source": [
        "train_data = [\n",
        "    ([1, 2], \"ClassA\"),\n",
        "    ([2, 3], \"ClassA\"),\n",
        "    ([3, 3], \"ClassA\"),\n",
        "    ([6, 8], \"ClassB\"),\n",
        "    ([7, 7], \"ClassB\"),\n",
        "    ([8, 9], \"ClassB\")\n",
        "]"
      ],
      "metadata": {
        "id": "-Z0JcziIOIFG"
      },
      "execution_count": 23,
      "outputs": []
    },
    {
      "cell_type": "markdown",
      "source": [
        "Step 4: Test the model"
      ],
      "metadata": {
        "id": "E33MyabFUHlH"
      }
    },
    {
      "cell_type": "code",
      "source": [
        "test_point = [5, 5]\n",
        "predicted_class = knn(train_data, test_point, k=3)"
      ],
      "metadata": {
        "id": "LcXl2XXqOMaV"
      },
      "execution_count": 24,
      "outputs": []
    },
    {
      "cell_type": "code",
      "source": [
        "print(\"Test Point:\", test_point)"
      ],
      "metadata": {
        "colab": {
          "base_uri": "https://localhost:8080/"
        },
        "id": "1yujVNbsOOOk",
        "outputId": "43e03611-384c-4c6f-83ee-d580d7fc87c4"
      },
      "execution_count": 25,
      "outputs": [
        {
          "output_type": "stream",
          "name": "stdout",
          "text": [
            "Test Point: [5, 5]\n"
          ]
        }
      ]
    },
    {
      "cell_type": "code",
      "source": [
        "print(\"Predicted Class:\", predicted_class)"
      ],
      "metadata": {
        "colab": {
          "base_uri": "https://localhost:8080/"
        },
        "id": "fpLVNGbIOP2L",
        "outputId": "9db3c67e-8db4-44c7-ebdc-c5fb51368e53"
      },
      "execution_count": 26,
      "outputs": [
        {
          "output_type": "stream",
          "name": "stdout",
          "text": [
            "Predicted Class: ClassB\n"
          ]
        }
      ]
    },
    {
      "cell_type": "markdown",
      "source": [
        "Test data with some tricky points"
      ],
      "metadata": {
        "id": "yVEKgwt-UMwK"
      }
    },
    {
      "cell_type": "code",
      "source": [
        "test_data = [\n",
        "    ([1.5, 2.0], \"ClassA\"),   # should be ClassA\n",
        "    ([2.5, 3.0], \"ClassA\"),   # should be ClassA\n",
        "    ([7.0, 8.0], \"ClassB\"),   # should be ClassB\n",
        "    ([5.0, 5.0], \"ClassA\"),   # ambiguous → might get misclassified\n",
        "    ([6.5, 6.5], \"ClassA\"),   # closer to ClassB cluster → will likely be wrong\n",
        "]"
      ],
      "metadata": {
        "id": "dzpuNLWvSNi4"
      },
      "execution_count": 27,
      "outputs": []
    },
    {
      "cell_type": "markdown",
      "source": [
        "Evaluate error rate"
      ],
      "metadata": {
        "id": "4FIdsM82UPGj"
      }
    },
    {
      "cell_type": "code",
      "source": [
        "k = 3\n",
        "errors = 0\n",
        "for features, true_label in test_data:\n",
        "    pred = knn(train_data, features, k)\n",
        "    print(f\"Point {features} → Predicted: {pred}, Actual: {true_label}\")\n",
        "    if pred != true_label:\n",
        "        errors += 1\n",
        "\n",
        "total = len(test_data)\n",
        "error_rate = errors / total\n"
      ],
      "metadata": {
        "colab": {
          "base_uri": "https://localhost:8080/"
        },
        "id": "aYA_eldCSZfy",
        "outputId": "fb57c745-2fdd-44ab-8cf6-eb97df178c6e"
      },
      "execution_count": 28,
      "outputs": [
        {
          "output_type": "stream",
          "name": "stdout",
          "text": [
            "Point [1.5, 2.0] → Predicted: ClassA, Actual: ClassA\n",
            "Point [2.5, 3.0] → Predicted: ClassA, Actual: ClassA\n",
            "Point [7.0, 8.0] → Predicted: ClassB, Actual: ClassB\n",
            "Point [5.0, 5.0] → Predicted: ClassB, Actual: ClassA\n",
            "Point [6.5, 6.5] → Predicted: ClassB, Actual: ClassA\n"
          ]
        }
      ]
    },
    {
      "cell_type": "code",
      "source": [
        "print(\"\\nTotal Test Points:\", total)"
      ],
      "metadata": {
        "colab": {
          "base_uri": "https://localhost:8080/"
        },
        "id": "FZ5AJDrCScz6",
        "outputId": "b71f069e-ea6c-4bc1-ac4d-2a8cf04963dd"
      },
      "execution_count": 29,
      "outputs": [
        {
          "output_type": "stream",
          "name": "stdout",
          "text": [
            "\n",
            "Total Test Points: 5\n"
          ]
        }
      ]
    },
    {
      "cell_type": "code",
      "source": [
        "print(\"Errors:\", errors)"
      ],
      "metadata": {
        "colab": {
          "base_uri": "https://localhost:8080/"
        },
        "id": "2MnXoEx3SgBy",
        "outputId": "465f52d5-8ba5-48d5-c6f7-5efa525d72a1"
      },
      "execution_count": 30,
      "outputs": [
        {
          "output_type": "stream",
          "name": "stdout",
          "text": [
            "Errors: 2\n"
          ]
        }
      ]
    },
    {
      "cell_type": "code",
      "source": [
        "print(\"Error Rate:\", error_rate)"
      ],
      "metadata": {
        "colab": {
          "base_uri": "https://localhost:8080/"
        },
        "id": "Gt1kgj4xShna",
        "outputId": "b59e85a8-3187-4088-e90b-5e0339ca436c"
      },
      "execution_count": 31,
      "outputs": [
        {
          "output_type": "stream",
          "name": "stdout",
          "text": [
            "Error Rate: 0.4\n"
          ]
        }
      ]
    },
    {
      "cell_type": "code",
      "source": [
        "print(\"Accuracy:\", 1 - error_rate)"
      ],
      "metadata": {
        "colab": {
          "base_uri": "https://localhost:8080/"
        },
        "id": "xNOGvuIKSk_T",
        "outputId": "31b34761-78ca-40d0-dbfa-083bd43ce486"
      },
      "execution_count": 32,
      "outputs": [
        {
          "output_type": "stream",
          "name": "stdout",
          "text": [
            "Accuracy: 0.6\n"
          ]
        }
      ]
    }
  ]
}